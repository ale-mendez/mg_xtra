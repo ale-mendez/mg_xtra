{
 "cells": [
  {
   "cell_type": "code",
   "execution_count": 1,
   "metadata": {},
   "outputs": [],
   "source": [
    "import os\n",
    "import sys\n",
    "sys.path.append('../')\n",
    "\n",
    "import src.module_process_energies as proc_ener\n",
    "import src.module_miscellaneous as misc\n",
    "import src.module_mainfunctions as mfunc"
   ]
  },
  {
   "cell_type": "code",
   "execution_count": 2,
   "metadata": {},
   "outputs": [],
   "source": [
    "convRyd2eV = 13.6057 # eV/Ryd\n",
    "convcm2Ryd = 1./109737.26 \n",
    "temperature = misc.default_temperature_grid()\n",
    "\n",
    "# Autostructure data input parameters:\n",
    "file_om = \"adf04ls\"\n",
    "file_ups = \"adf04ls_ups\"\n",
    "nterms = 189 # hacer una función para automatizar esto (leyendo previamente adf04)\n",
    "ntran = 12389 # hacer una función para automatizar esto (leyendo previamente adf04)\n",
    "folder = \"../de_ishftls/\"\n",
    "AScalc = 'AS(ishftls)'\n",
    "\n",
    "\n",
    "# Read database (DB) values\n",
    "nsuplev = 55\n",
    "dbfilepath = '~/magnesio/resumen/ModelAtomicIonLevel-IMPORTED.txt'\n",
    "terms_DB = proc_ener.read_database_energies(dbfilepath)\n",
    "compterms = {\n",
    "    'database(NIST)': {\n",
    "        'terms': terms_DB, \n",
    "        'suplev': nsuplev\n",
    "    }\n",
    "} # => index where superlevels appear"
   ]
  },
  {
   "cell_type": "code",
   "execution_count": 3,
   "metadata": {},
   "outputs": [
    {
     "name": "stdout",
     "output_type": "stream",
     "text": [
      "checking energy conversion:\n",
      "3S1 3P1 21890.8529 cm^2 =>  0.19948423078906838 Ryd\n",
      "\n",
      "=> warning: using superlevels predefined\n",
      "... all done!\n",
      "\n"
     ]
    }
   ],
   "source": [
    "# read Autostructure calculation and database data for energy values\n",
    "terms_AS, termdict_DB = mfunc.energy_data(folder, file_om, AScalc, nterms, compterms)"
   ]
  },
  {
   "cell_type": "code",
   "execution_count": 4,
   "metadata": {},
   "outputs": [
    {
     "name": "stdout",
     "output_type": "stream",
     "text": [
      "sorting transition type...\n",
      "... all done!\n",
      " ==> 4917 transition were dropped because eik==0\n",
      "\n"
     ]
    }
   ],
   "source": [
    "# read CS and ECS (compute them if they have not been computed thus far) \n",
    "# => this is accurate only when shifted energies have been included in the EIE calculation\n",
    "omg, ups = mfunc.collisional_data(folder, file_om, terms_AS, nterms, ntran)"
   ]
  },
  {
   "cell_type": "code",
   "execution_count": 5,
   "metadata": {},
   "outputs": [
    {
     "name": "stdout",
     "output_type": "stream",
     "text": [
      "processing index transformation..\n",
      "... all done!\n"
     ]
    }
   ],
   "source": [
    "# rename effective collision strengths using database index\n",
    "ups_r = mfunc.rename_transition_levels(ups, termdict_DB)"
   ]
  },
  {
   "cell_type": "code",
   "execution_count": 6,
   "metadata": {},
   "outputs": [],
   "source": [
    "# compute superlevel with formula 1\n",
    "ups_slv = mfunc.compute_superlevels_ECS(terms_AS, ups_r, nlevmax=85, nlevmin=84)"
   ]
  },
  {
   "cell_type": "code",
   "execution_count": 7,
   "metadata": {},
   "outputs": [
    {
     "data": {
      "text/html": [
       "<div>\n",
       "<style scoped>\n",
       "    .dataframe tbody tr th:only-of-type {\n",
       "        vertical-align: middle;\n",
       "    }\n",
       "\n",
       "    .dataframe tbody tr th {\n",
       "        vertical-align: top;\n",
       "    }\n",
       "\n",
       "    .dataframe thead th {\n",
       "        text-align: right;\n",
       "    }\n",
       "</style>\n",
       "<table border=\"1\" class=\"dataframe\">\n",
       "  <thead>\n",
       "    <tr style=\"text-align: right;\">\n",
       "      <th></th>\n",
       "      <th>k</th>\n",
       "      <th>i</th>\n",
       "      <th>3000.0</th>\n",
       "      <th>4000.0</th>\n",
       "      <th>5000.0</th>\n",
       "      <th>6000.0</th>\n",
       "      <th>7000.0</th>\n",
       "      <th>8000.0</th>\n",
       "      <th>9000.0</th>\n",
       "      <th>10000.0</th>\n",
       "      <th>11000.0</th>\n",
       "      <th>12000.0</th>\n",
       "      <th>13000.0</th>\n",
       "      <th>14000.0</th>\n",
       "      <th>15000.0</th>\n",
       "      <th>16000.0</th>\n",
       "    </tr>\n",
       "  </thead>\n",
       "  <tbody>\n",
       "    <tr>\n",
       "      <th>0</th>\n",
       "      <td>2</td>\n",
       "      <td>1</td>\n",
       "      <td>2.166095</td>\n",
       "      <td>2.675268</td>\n",
       "      <td>3.100920</td>\n",
       "      <td>3.459414</td>\n",
       "      <td>3.763363</td>\n",
       "      <td>4.022538</td>\n",
       "      <td>4.244591</td>\n",
       "      <td>4.435577</td>\n",
       "      <td>4.600340</td>\n",
       "      <td>4.742796</td>\n",
       "      <td>4.866141</td>\n",
       "      <td>4.973006</td>\n",
       "      <td>5.065580</td>\n",
       "      <td>5.145693</td>\n",
       "    </tr>\n",
       "    <tr>\n",
       "      <th>1</th>\n",
       "      <td>3</td>\n",
       "      <td>1</td>\n",
       "      <td>2.859619</td>\n",
       "      <td>3.148998</td>\n",
       "      <td>3.393255</td>\n",
       "      <td>3.612149</td>\n",
       "      <td>3.815352</td>\n",
       "      <td>4.008193</td>\n",
       "      <td>4.193846</td>\n",
       "      <td>4.374315</td>\n",
       "      <td>4.550918</td>\n",
       "      <td>4.724561</td>\n",
       "      <td>4.895880</td>\n",
       "      <td>5.065338</td>\n",
       "      <td>5.233275</td>\n",
       "      <td>5.399946</td>\n",
       "    </tr>\n",
       "    <tr>\n",
       "      <th>2</th>\n",
       "      <td>3</td>\n",
       "      <td>2</td>\n",
       "      <td>12.722873</td>\n",
       "      <td>13.983362</td>\n",
       "      <td>14.822721</td>\n",
       "      <td>15.385166</td>\n",
       "      <td>15.756620</td>\n",
       "      <td>15.992047</td>\n",
       "      <td>16.128338</td>\n",
       "      <td>16.191139</td>\n",
       "      <td>16.198774</td>\n",
       "      <td>16.164621</td>\n",
       "      <td>16.098627</td>\n",
       "      <td>16.008295</td>\n",
       "      <td>15.899357</td>\n",
       "      <td>15.776239</td>\n",
       "    </tr>\n",
       "    <tr>\n",
       "      <th>3</th>\n",
       "      <td>4</td>\n",
       "      <td>1</td>\n",
       "      <td>0.973188</td>\n",
       "      <td>1.060260</td>\n",
       "      <td>1.123046</td>\n",
       "      <td>1.169354</td>\n",
       "      <td>1.203607</td>\n",
       "      <td>1.228669</td>\n",
       "      <td>1.246548</td>\n",
       "      <td>1.258730</td>\n",
       "      <td>1.266349</td>\n",
       "      <td>1.270289</td>\n",
       "      <td>1.271252</td>\n",
       "      <td>1.269797</td>\n",
       "      <td>1.266379</td>\n",
       "      <td>1.261366</td>\n",
       "    </tr>\n",
       "    <tr>\n",
       "      <th>4</th>\n",
       "      <td>4</td>\n",
       "      <td>2</td>\n",
       "      <td>7.436320</td>\n",
       "      <td>8.151954</td>\n",
       "      <td>8.754221</td>\n",
       "      <td>9.291934</td>\n",
       "      <td>9.788039</td>\n",
       "      <td>10.254843</td>\n",
       "      <td>10.699624</td>\n",
       "      <td>11.127033</td>\n",
       "      <td>11.540245</td>\n",
       "      <td>11.941546</td>\n",
       "      <td>12.332659</td>\n",
       "      <td>12.714926</td>\n",
       "      <td>13.089422</td>\n",
       "      <td>13.457021</td>\n",
       "    </tr>\n",
       "  </tbody>\n",
       "</table>\n",
       "</div>"
      ],
      "text/plain": [
       "   k  i     3000.0     4000.0     5000.0     6000.0     7000.0     8000.0  \\\n",
       "0  2  1   2.166095   2.675268   3.100920   3.459414   3.763363   4.022538   \n",
       "1  3  1   2.859619   3.148998   3.393255   3.612149   3.815352   4.008193   \n",
       "2  3  2  12.722873  13.983362  14.822721  15.385166  15.756620  15.992047   \n",
       "3  4  1   0.973188   1.060260   1.123046   1.169354   1.203607   1.228669   \n",
       "4  4  2   7.436320   8.151954   8.754221   9.291934   9.788039  10.254843   \n",
       "\n",
       "      9000.0    10000.0    11000.0    12000.0    13000.0    14000.0  \\\n",
       "0   4.244591   4.435577   4.600340   4.742796   4.866141   4.973006   \n",
       "1   4.193846   4.374315   4.550918   4.724561   4.895880   5.065338   \n",
       "2  16.128338  16.191139  16.198774  16.164621  16.098627  16.008295   \n",
       "3   1.246548   1.258730   1.266349   1.270289   1.271252   1.269797   \n",
       "4  10.699624  11.127033  11.540245  11.941546  12.332659  12.714926   \n",
       "\n",
       "     15000.0    16000.0  \n",
       "0   5.065580   5.145693  \n",
       "1   5.233275   5.399946  \n",
       "2  15.899357  15.776239  \n",
       "3   1.266379   1.261366  \n",
       "4  13.089422  13.457021  "
      ]
     },
     "execution_count": 7,
     "metadata": {},
     "output_type": "execute_result"
    }
   ],
   "source": [
    "ups_slv.head()"
   ]
  },
  {
   "cell_type": "code",
   "execution_count": 8,
   "metadata": {},
   "outputs": [],
   "source": [
    "filepath = os.path.join(folder, 'ECS-AS-superlevels.dat')\n",
    "ups_slv.to_csv(filepath, index=False)"
   ]
  },
  {
   "cell_type": "code",
   "execution_count": 9,
   "metadata": {},
   "outputs": [
    {
     "data": {
      "text/plain": [
       "3557"
      ]
     },
     "execution_count": 9,
     "metadata": {},
     "output_type": "execute_result"
    }
   ],
   "source": [
    "len(ups_slv)"
   ]
  },
  {
   "cell_type": "code",
   "execution_count": 10,
   "metadata": {},
   "outputs": [
    {
     "data": {
      "text/plain": [
       "7472"
      ]
     },
     "execution_count": 10,
     "metadata": {},
     "output_type": "execute_result"
    }
   ],
   "source": [
    "len(ups)"
   ]
  },
  {
   "cell_type": "code",
   "execution_count": null,
   "metadata": {},
   "outputs": [],
   "source": []
  }
 ],
 "metadata": {
  "interpreter": {
   "hash": "94fec2bab10b913d8163a270d82ae87a1b98ce6e4fc73847ff8e81ebcffcf488"
  },
  "kernelspec": {
   "display_name": "Python 3.8.8 64-bit ('base': conda)",
   "name": "python3"
  },
  "language_info": {
   "codemirror_mode": {
    "name": "ipython",
    "version": 3
   },
   "file_extension": ".py",
   "mimetype": "text/x-python",
   "name": "python",
   "nbconvert_exporter": "python",
   "pygments_lexer": "ipython3",
   "version": "3.8.12"
  }
 },
 "nbformat": 4,
 "nbformat_minor": 2
}
